{
 "cells": [
  {
   "cell_type": "code",
   "execution_count": 2,
   "metadata": {
    "collapsed": true
   },
   "outputs": [],
   "source": [
    "import tensorflow as tf\n",
    "import time\n",
    "from datetime import timedelta\n",
    "import math\n",
    "import numpy as np\n",
    "import os\n",
    "import glob\n",
    "import sys\n",
    "import scipy.misc\n",
    "from scipy.ndimage import imread\n",
    "import timeit"
   ]
  },
  {
   "cell_type": "code",
   "execution_count": 3,
   "metadata": {},
   "outputs": [
    {
     "name": "stdout",
     "output_type": "stream",
     "text": [
      "['.DS_Store', '.ipynb_checkpoints', '__pycache__', 'cat.22.jpg', 'cat_dog', 'cifar10-hw1', 'CNN (1).ipynb', 'CNN.ipynb', 'CNN_updated.ipynb.txt', 'data_size_hw2.py', 'dataset.py', 'Example of NN.ipynb', 'HW # 1.zip', 'HW 1.pdf', 'HW1(1).ipynb', 'HW1-data.tar', 'HW1-uni.ipynb', 'HW2_data', 'Hw2tests.ipynb', 'HW_1', 'HW_2.ipynb', 'import tensorflow as tf', 'NOTES', 'notes_on_backprop.pdf', 'predict.py', 'Sample-NN from scratch.ipynb', 'TDozat-ICLR2016.pdf', 'test_submit.csv', 'TF.ipynb', 'tf_img_classifier.ipynb', 'tfbasics-Copy1.ipynb', 'tfbasics2.ipynb', 'train_hw2.py', 'train_hw2_2.ipynb', 'train_hw2_2.py', 'Trials # 3.ipynb', 'trials 4.ipynb', 'Trials HW ## 1 DL 2.ipynb', 'Trials HW#1 DL.ipynb', 'Untitled.ipynb']\n",
      "{'airplane': 0, 'automobile': 1, 'bird': 2, 'cat': 3, 'deer': 4, 'dog': 5, 'frog': 6, 'horse': 7, 'ship': 8, 'truck': 9}\n",
      "Loaded 10000/45000\n",
      "Loaded 20000/45000\n",
      "Loaded 30000/45000\n",
      "Loaded 40000/45000\n",
      "Data loading done.\n"
     ]
    }
   ],
   "source": [
    "def get_img_array(path):\n",
    "    \"\"\"\n",
    "    Given path of image, returns it's numpy array\n",
    "    \"\"\"\n",
    "    return scipy.misc.imread(path)\n",
    "\n",
    "def get_files(folder):\n",
    "    \"\"\"\n",
    "    Given path to folder, returns list of files in it\n",
    "    \"\"\"\n",
    "    def getid(s):\n",
    "        return int(''.join(c for c in s[3:] if c.isdigit()))\n",
    "        \n",
    "    filenames = [file for file in glob.glob(folder+'*/*')]\n",
    "    filenames.sort(key=getid)\n",
    "    return filenames\n",
    "\n",
    "def get_label(filepath, label2id):\n",
    "    \"\"\"\n",
    "    Files are assumed to be labeled as: /path/to/file/999_frog.png\n",
    "    Returns label for a filepath\n",
    "    \"\"\"\n",
    "    tokens = filepath.split('/')\n",
    "    label = tokens[-1].split('_')[1][:-4]\n",
    "    if label in label2id:\n",
    "        return label2id[label]\n",
    "    else:\n",
    "        sys.exit(\"Invalid label: \" + label)\n",
    "        \n",
    "\n",
    "def get_labels(folder, label2id):\n",
    "    \"\"\"\n",
    "    Returns vector of labels extracted from filenames of all files in folder\n",
    "    :param folder: path to data folder\n",
    "    :param label2id: mapping of text labels to numeric ids. (Eg: automobile -> 0)\n",
    "    \"\"\"\n",
    "    files = get_files(folder)\n",
    "    y = []\n",
    "    for f in files:\n",
    "        y.append(get_label(f,label2id))\n",
    "    return np.array(y)\n",
    "\n",
    "def one_hot(y, num_classes=10):\n",
    "    \"\"\"\n",
    "    Converts each label index in y to vector with one_hot encoding\n",
    "    One-hot encoding converts categorical labels to binary values\n",
    "    \"\"\"\n",
    "    y_one_hot = np.zeros((num_classes, y.shape[0]))\n",
    "    y_one_hot[y, range(y.shape[0])] = 1\n",
    "    return y_one_hot\n",
    "\n",
    "def get_label_mapping(label_file):\n",
    "    \"\"\"\n",
    "    Returns mappings of label to index and index to label\n",
    "    The input file has list of labels, each on a separate line.\n",
    "    \"\"\"\n",
    "    print(os.listdir())\n",
    "    with open(label_file, 'r') as f:\n",
    "        id2label = f.readlines()\n",
    "        id2label = [l.strip() for l in id2label]\n",
    "    label2id = {}\n",
    "    count = 0\n",
    "    for label in id2label:\n",
    "        label2id[label] = count\n",
    "        count += 1\n",
    "    return id2label, label2id\n",
    "\n",
    "def get_images(folder):\n",
    "    \"\"\"\n",
    "    returns numpy array of all samples in folder\n",
    "    each column is a sample resized to 30x30 and flattened\n",
    "    \"\"\"\n",
    "    files = get_files(folder)\n",
    "    images = []\n",
    "    count = 0\n",
    "    \n",
    "    for f in files:\n",
    "        count += 1 \n",
    "        if count % 10000 == 0:\n",
    "            print(\"Loaded {}/{}\".format(count,len(files)))\n",
    "        img_arr = get_img_array(f)\n",
    "        img_arr = img_arr.flatten() / 255.0\n",
    "        images.append(img_arr)\n",
    "    X = np.column_stack(images)\n",
    "\n",
    "    return X\n",
    "\n",
    "def get_train_data(data_root_path):\n",
    "    \"\"\"\n",
    "    Return X and y\n",
    "    \"\"\"\n",
    "    train_data_path = data_root_path + 'train'\n",
    "    id2label, label2id = get_label_mapping(data_root_path+'labels.txt')\n",
    "    print(label2id)\n",
    "    X = get_images(train_data_path)\n",
    "    y = get_labels(train_data_path, label2id)\n",
    "    return X, y\n",
    "\n",
    "def save_predictions(filename, y):\n",
    "    \"\"\"\n",
    "    Dumps y into .npy file\n",
    "    \"\"\"\n",
    "    np.save(filename, y)\n",
    "    \n",
    "def get_batch(X, y, batch_size):\n",
    "    \"\"\"\n",
    "    Return minibatch of samples and labels\n",
    "  \n",
    "    :param X, y: samples and corresponding labels\n",
    "    :parma batch_size: minibatch size\n",
    "    :returns: (tuple) X_batch, y_batch\n",
    "    \"\"\"\n",
    "    # Random indices for the samples\n",
    "\n",
    "    indices = np.random.randint(y.shape[0]-1, size= batch_size)\n",
    "\n",
    "    X_batch = X[indices, :]\n",
    "    y_batch = y[indices, :]\n",
    "  \n",
    "    return X_batch, y_batch\n",
    "\n",
    "# Load the data\n",
    "data_root_path = 'HW2_data/'\n",
    "X_train, y_train = get_train_data(data_root_path) # this may take a few minutes\n",
    "y_train = one_hot(y_train).T\n",
    "X_train = X_train.T\n",
    "X_train = (X_train - np.mean(X_train,axis=0)) / np.std(X_train,axis=0) # Normalize data \n",
    "\n",
    "\n",
    "# Loading test data \n",
    "X_test = get_images(data_root_path + 'test').T\n",
    "\n",
    "print(\"Data loading done.\")"
   ]
  },
  {
   "cell_type": "code",
   "execution_count": 6,
   "metadata": {},
   "outputs": [],
   "source": [
    "X_train1= X_train[0:42000,:]\n",
    "y_train1= y_train[0:42000]\n",
    "X_val = X_train[42000:45000,:] \n",
    "y_val = y_train[42000:45000]"
   ]
  },
  {
   "cell_type": "code",
   "execution_count": 8,
   "metadata": {},
   "outputs": [],
   "source": [
    "X_train1 = X_train1.reshape(42000,32,32,3)"
   ]
  },
  {
   "cell_type": "code",
   "execution_count": 9,
   "metadata": {},
   "outputs": [
    {
     "data": {
      "text/plain": [
       "(42000, 32, 32, 3)"
      ]
     },
     "execution_count": 9,
     "metadata": {},
     "output_type": "execute_result"
    }
   ],
   "source": [
    "X_train1.shape"
   ]
  },
  {
   "cell_type": "code",
   "execution_count": 10,
   "metadata": {},
   "outputs": [
    {
     "data": {
      "text/plain": [
       "(42000, 10)"
      ]
     },
     "execution_count": 10,
     "metadata": {},
     "output_type": "execute_result"
    }
   ],
   "source": [
    "y_train1.shape"
   ]
  },
  {
   "cell_type": "code",
   "execution_count": 11,
   "metadata": {
    "collapsed": true
   },
   "outputs": [],
   "source": [
    "batch_size = 64\n",
    "num_classes = 10\n",
    "img_size = 32\n",
    "num_channels = 3"
   ]
  },
  {
   "cell_type": "code",
   "execution_count": 13,
   "metadata": {},
   "outputs": [],
   "source": [
    "tf.reset_default_graph()\n",
    "session = tf.Session()\n",
    "x = tf.placeholder(tf.float32, shape=[None, img_size,img_size,num_channels], name='x')\n",
    "## labels\n",
    "y_true = tf.placeholder(tf.float32, shape=[None, num_classes], name='y_true')\n",
    "y_true_cls = tf.argmax(y_true, axis=1)\n",
    "is_training = tf.placeholder(tf.bool)"
   ]
  },
  {
   "cell_type": "code",
   "execution_count": 14,
   "metadata": {
    "collapsed": true
   },
   "outputs": [],
   "source": [
    "# Convolutional layers \n",
    "Wconv1 = tf.get_variable(\"Wconv1\", shape=[5, 5, 3, 32])\n",
    "bconv1 = tf.get_variable(\"bconv1\", shape=[32])\n",
    "Wconv2 = tf.get_variable(\"Wconv2\", shape=[5, 5, 32, 64])\n",
    "bconv2 = tf.get_variable(\"bconv2\", shape=[64])\n",
    "\n",
    "# Fully connected layers \n",
    "W1 = tf.get_variable(\"W1\", shape=[3136, 1024])\n",
    "b1 = tf.get_variable(\"b1\", shape=[1024])\n",
    "W2 = tf.get_variable(\"W2\", shape=[1024, 10])\n",
    "b2 = tf.get_variable(\"b2\", shape=[10]) \n",
    "\n",
    "\n",
    "# Forward propagation\n",
    "conv1 = tf.nn.conv2d(x, Wconv1, strides=[1, 1, 1, 1], padding='SAME') + bconv1\n",
    "relu1 = tf.nn.relu(conv1)\n",
    "conv2 = tf.nn.conv2d(relu1, Wconv2, strides=[1, 2, 2, 1], padding='VALID') + bconv2\n",
    "relu2 = tf.nn.relu(conv2)\n",
    "maxpool = tf.layers.max_pooling2d(relu2, pool_size=(2,2), strides=2)\n",
    "maxpool_flat = tf.reshape(maxpool,[-1,3136])\n",
    "# Spatial Batch Normalization Layer (trainable parameters, with scale and centering)\n",
    "bn1 = tf.layers.batch_normalization(inputs=maxpool_flat, center=True, scale=True, training=is_training)\n",
    "affine1 = tf.matmul(bn1, W1) + b1\n",
    "affine1_flat = tf.reshape(affine1,[-1,1024])\n",
    "bn2 = tf.layers.batch_normalization(inputs=affine1, center=True, scale=True, training=is_training)\n",
    "relu2 = tf.nn.relu(bn2)\n",
    "drop1 = tf.layers.dropout(inputs=relu2, training=is_training)\n",
    "affine2 = tf.matmul(drop1, W2) + b2\n",
    "affine2_flat = tf.reshape(affine2,[-1,3136])\n",
    "\n",
    "predict = tf.layers.batch_normalization(inputs=affine2, center=True, scale=True, training=is_training)\n",
    "\n",
    "y_pred = tf.nn.softmax(predict)"
   ]
  },
  {
   "cell_type": "code",
   "execution_count": 16,
   "metadata": {},
   "outputs": [],
   "source": [
    "y_pred_cls = tf.argmax(y_pred, axis=1)\n",
    "cross_entropy = tf.nn.softmax_cross_entropy_with_logits(logits=predict,labels=y_true)\n",
    "cost = tf.reduce_mean(cross_entropy)\n",
    "correct_prediction = tf.equal(y_pred_cls, y_true_cls)\n",
    "accuracy = tf.reduce_mean(tf.cast(correct_prediction, tf.float32))\n",
    "\n",
    "\n",
    "global_step = tf.Variable(0, trainable=False)\n",
    "starter_learning_rate = 1e-3\n",
    "end_learning_rate = 5e-3\n",
    "decay_steps = 10000\n",
    "\n",
    "learning_rate = tf.train.polynomial_decay(starter_learning_rate, global_step,\n",
    "                                          decay_steps, end_learning_rate,\n",
    "                                          power=0.5)\n",
    "\n",
    "exp_learning_rate = tf.train.exponential_decay(starter_learning_rate, global_step,\n",
    "                                               100000, 0.96, staircase=True)                 \n",
    "\n",
    "extra_update_ops = tf.get_collection(tf.GraphKeys.UPDATE_OPS)\n",
    "with tf.control_dependencies(extra_update_ops):\n",
    "    optimizer = tf.train.AdamOptimizer(learning_rate=1e-3).minimize(cost, global_step=global_step)\n",
    "                      "
   ]
  },
  {
   "cell_type": "code",
   "execution_count": 11,
   "metadata": {
    "collapsed": true
   },
   "outputs": [],
   "source": [
    "#x_valid_batch, y_valid_batch = get_batch(X_train, y_train, batch_size)\n",
    "#x_valid_batch = x_valid_batch.reshape((batch_size, 32, 32, 3))"
   ]
  },
  {
   "cell_type": "code",
   "execution_count": 17,
   "metadata": {
    "collapsed": true
   },
   "outputs": [],
   "source": [
    "x_valid_batch = X_val \n",
    "y_valid_batch = y_val #= get_batch(X_train, y_train, batch_size)\n",
    "x_valid_batch = x_valid_batch.reshape((3000, 32, 32, 3))"
   ]
  },
  {
   "cell_type": "code",
   "execution_count": 18,
   "metadata": {
    "collapsed": true
   },
   "outputs": [],
   "source": [
    "def show_progress(epoch, feed_dict_train, feed_dict_validate, val_loss):\n",
    "    acc = session.run(accuracy, feed_dict=feed_dict_train)\n",
    "    val_acc = session.run(accuracy, feed_dict=feed_dict_validate)\n",
    "    msg = \"Training Epoch {0} --- Training Accuracy: {1:>6.1%}, Validation Accuracy: {2:>6.1%},  Validation Loss: {3:.3f}\"\n",
    "    print(msg.format(epoch + 1, acc, val_acc, val_loss))"
   ]
  },
  {
   "cell_type": "code",
   "execution_count": 19,
   "metadata": {
    "collapsed": true
   },
   "outputs": [],
   "source": [
    "def train(num_epochs = 10):\n",
    "    for epoch in range(num_epochs):\n",
    "        # keep track of losses and accuracy\n",
    "        correct = 0\n",
    "        losses = []\n",
    "        for i in range(int(math.ceil(X_train.shape[0]/batch_size))):\n",
    "            \n",
    "            x_batch, y_true_batch = get_batch(X_train1, y_train1, batch_size)\n",
    "            # Training batches \n",
    "            feed_dict_tr = {x: x_batch,\n",
    "                           y_true: y_true_batch, is_training: True}\n",
    "            \n",
    "            # Validation batches \n",
    "            feed_dict_val = {x: x_valid_batch,\n",
    "                              y_true: y_valid_batch, is_training: False}\n",
    "            \n",
    "            # Optimizing \n",
    "            session.run(optimizer, feed_dict=feed_dict_tr)\n",
    "            \n",
    "            if (i % 200) == 0:\n",
    "                # Showing progress every 200 iters\n",
    "                val_loss = session.run(cost, feed_dict=feed_dict_tr)\n",
    "                show_progress(epoch, feed_dict_tr, feed_dict_val, val_loss)           "
   ]
  },
  {
   "cell_type": "code",
   "execution_count": 20,
   "metadata": {
    "collapsed": true
   },
   "outputs": [],
   "source": [
    "session = tf.Session()"
   ]
  },
  {
   "cell_type": "code",
   "execution_count": 21,
   "metadata": {
    "collapsed": true
   },
   "outputs": [],
   "source": [
    "session.run(tf.global_variables_initializer())"
   ]
  },
  {
   "cell_type": "code",
   "execution_count": 22,
   "metadata": {},
   "outputs": [
    {
     "name": "stdout",
     "output_type": "stream",
     "text": [
      "Training Epoch 1 --- Training Accuracy:  84.4%, Validation Accuracy:  10.6%,  Validation Loss: 1.025\n",
      "Training Epoch 1 --- Training Accuracy:  57.8%, Validation Accuracy:  49.0%,  Validation Loss: 1.353\n",
      "Training Epoch 1 --- Training Accuracy:  62.5%, Validation Accuracy:  56.6%,  Validation Loss: 1.149\n",
      "Training Epoch 1 --- Training Accuracy:  65.6%, Validation Accuracy:  61.3%,  Validation Loss: 1.023\n",
      "Training Epoch 2 --- Training Accuracy:  60.9%, Validation Accuracy:  59.7%,  Validation Loss: 1.094\n",
      "Training Epoch 2 --- Training Accuracy:  68.8%, Validation Accuracy:  64.9%,  Validation Loss: 1.076\n",
      "Training Epoch 2 --- Training Accuracy:  75.0%, Validation Accuracy:  62.7%,  Validation Loss: 0.795\n",
      "Training Epoch 2 --- Training Accuracy:  81.2%, Validation Accuracy:  64.3%,  Validation Loss: 0.824\n",
      "Training Epoch 3 --- Training Accuracy:  71.9%, Validation Accuracy:  66.9%,  Validation Loss: 0.836\n",
      "Training Epoch 3 --- Training Accuracy:  76.6%, Validation Accuracy:  67.0%,  Validation Loss: 0.706\n",
      "Training Epoch 3 --- Training Accuracy:  82.8%, Validation Accuracy:  67.6%,  Validation Loss: 0.543\n",
      "Training Epoch 3 --- Training Accuracy:  76.6%, Validation Accuracy:  68.3%,  Validation Loss: 0.590\n",
      "Training Epoch 4 --- Training Accuracy:  85.9%, Validation Accuracy:  67.8%,  Validation Loss: 0.501\n",
      "Training Epoch 4 --- Training Accuracy:  81.2%, Validation Accuracy:  69.7%,  Validation Loss: 0.509\n",
      "Training Epoch 4 --- Training Accuracy:  87.5%, Validation Accuracy:  70.4%,  Validation Loss: 0.487\n",
      "Training Epoch 4 --- Training Accuracy:  87.5%, Validation Accuracy:  70.5%,  Validation Loss: 0.396\n",
      "Training Epoch 5 --- Training Accuracy:  82.8%, Validation Accuracy:  70.1%,  Validation Loss: 0.488\n",
      "Training Epoch 5 --- Training Accuracy:  84.4%, Validation Accuracy:  70.9%,  Validation Loss: 0.431\n",
      "Training Epoch 5 --- Training Accuracy:  90.6%, Validation Accuracy:  70.7%,  Validation Loss: 0.476\n",
      "Training Epoch 5 --- Training Accuracy:  84.4%, Validation Accuracy:  71.8%,  Validation Loss: 0.447\n",
      "Training Epoch 6 --- Training Accuracy:  87.5%, Validation Accuracy:  70.7%,  Validation Loss: 0.613\n",
      "Training Epoch 6 --- Training Accuracy:  87.5%, Validation Accuracy:  69.9%,  Validation Loss: 0.371\n",
      "Training Epoch 6 --- Training Accuracy:  89.1%, Validation Accuracy:  70.4%,  Validation Loss: 0.392\n",
      "Training Epoch 6 --- Training Accuracy:  90.6%, Validation Accuracy:  71.8%,  Validation Loss: 0.391\n",
      "Training Epoch 7 --- Training Accuracy:  82.8%, Validation Accuracy:  69.4%,  Validation Loss: 0.514\n",
      "Training Epoch 7 --- Training Accuracy:  90.6%, Validation Accuracy:  71.4%,  Validation Loss: 0.369\n",
      "Training Epoch 7 --- Training Accuracy:  93.8%, Validation Accuracy:  70.0%,  Validation Loss: 0.297\n",
      "Training Epoch 7 --- Training Accuracy:  85.9%, Validation Accuracy:  71.7%,  Validation Loss: 0.400\n",
      "Training Epoch 8 --- Training Accuracy:  89.1%, Validation Accuracy:  73.0%,  Validation Loss: 0.340\n",
      "Training Epoch 8 --- Training Accuracy:  90.6%, Validation Accuracy:  72.1%,  Validation Loss: 0.232\n",
      "Training Epoch 8 --- Training Accuracy:  92.2%, Validation Accuracy:  72.6%,  Validation Loss: 0.339\n",
      "Training Epoch 8 --- Training Accuracy:  92.2%, Validation Accuracy:  72.1%,  Validation Loss: 0.241\n",
      "Training Epoch 9 --- Training Accuracy:  92.2%, Validation Accuracy:  72.4%,  Validation Loss: 0.318\n",
      "Training Epoch 9 --- Training Accuracy:  90.6%, Validation Accuracy:  72.3%,  Validation Loss: 0.228\n",
      "Training Epoch 9 --- Training Accuracy:  92.2%, Validation Accuracy:  70.7%,  Validation Loss: 0.293\n",
      "Training Epoch 9 --- Training Accuracy:  96.9%, Validation Accuracy:  72.0%,  Validation Loss: 0.282\n",
      "Training Epoch 10 --- Training Accuracy:  96.9%, Validation Accuracy:  71.4%,  Validation Loss: 0.156\n",
      "Training Epoch 10 --- Training Accuracy:  95.3%, Validation Accuracy:  72.5%,  Validation Loss: 0.174\n",
      "Training Epoch 10 --- Training Accuracy:  93.8%, Validation Accuracy:  73.8%,  Validation Loss: 0.201\n",
      "Training Epoch 10 --- Training Accuracy:  92.2%, Validation Accuracy:  72.1%,  Validation Loss: 0.243\n"
     ]
    }
   ],
   "source": [
    "try:\n",
    "    with tf.device(\"/cpu:0\") as dev:\n",
    "        train(num_epochs=10)\n",
    "except tf.errors.InvalidArgumentError:\n",
    "    print(\"no gpu found, please use Google Cloud if you want GPU acceleration\") "
   ]
  },
  {
   "cell_type": "code",
   "execution_count": 55,
   "metadata": {
    "collapsed": true
   },
   "outputs": [],
   "source": [
    "X_test = (X_test - np.mean(X_test,axis=0)) / np.std(X_test,axis=0)"
   ]
  },
  {
   "cell_type": "code",
   "execution_count": 56,
   "metadata": {},
   "outputs": [
    {
     "data": {
      "text/plain": [
       "(5000, 3072)"
      ]
     },
     "execution_count": 56,
     "metadata": {},
     "output_type": "execute_result"
    }
   ],
   "source": [
    "X_test.shape"
   ]
  },
  {
   "cell_type": "code",
   "execution_count": 57,
   "metadata": {
    "collapsed": true
   },
   "outputs": [],
   "source": [
    "pred = session.run(y_pred_cls, feed_dict = {x: X_test.reshape((5000,32,32,3)), is_training: True})"
   ]
  },
  {
   "cell_type": "code",
   "execution_count": 58,
   "metadata": {},
   "outputs": [
    {
     "data": {
      "text/plain": [
       "array([7, 1, 4, ..., 9, 1, 1])"
      ]
     },
     "execution_count": 58,
     "metadata": {},
     "output_type": "execute_result"
    }
   ],
   "source": [
    "pred"
   ]
  },
  {
   "cell_type": "code",
   "execution_count": 59,
   "metadata": {
    "collapsed": true
   },
   "outputs": [],
   "source": [
    "classes = ('airplane','automobile', 'bird', 'cat', 'deer', 'dog', 'frog', 'horse', 'ship', 'truck')"
   ]
  },
  {
   "cell_type": "code",
   "execution_count": 62,
   "metadata": {
    "collapsed": true,
    "scrolled": false
   },
   "outputs": [],
   "source": [
    "file= open(\"test_submit.csv\", \"w\")\n",
    "file.write(\"id,label\\n\")\n",
    "\n",
    "\n",
    "for i in range(len(pred)):\n",
    "    row = str(i+1) + \",\"+ classes[pred[i]] + '\\n'\n",
    "    file.write(row)\n",
    "file.close()"
   ]
  },
  {
   "cell_type": "code",
   "execution_count": null,
   "metadata": {
    "collapsed": true
   },
   "outputs": [],
   "source": []
  }
 ],
 "metadata": {
  "kernelspec": {
   "display_name": "Python 3",
   "language": "python",
   "name": "python3"
  },
  "language_info": {
   "codemirror_mode": {
    "name": "ipython",
    "version": 3
   },
   "file_extension": ".py",
   "mimetype": "text/x-python",
   "name": "python",
   "nbconvert_exporter": "python",
   "pygments_lexer": "ipython3",
   "version": "3.6.1"
  }
 },
 "nbformat": 4,
 "nbformat_minor": 2
}
