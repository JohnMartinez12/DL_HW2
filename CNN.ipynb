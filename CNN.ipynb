{
 "cells": [
  {
   "cell_type": "code",
   "execution_count": 21,
   "metadata": {},
   "outputs": [],
   "source": [
    "import tensorflow as tf\n",
    "import time\n",
    "from datetime import timedelta\n",
    "import math\n",
    "import numpy as np\n",
    "import os\n",
    "import glob\n",
    "import sys\n",
    "import scipy.misc\n",
    "from scipy.ndimage import imread\n",
    "import timeit"
   ]
  },
  {
   "cell_type": "code",
   "execution_count": 53,
   "metadata": {},
   "outputs": [
    {
     "name": "stdout",
     "output_type": "stream",
     "text": [
      "['.DS_Store', '.ipynb_checkpoints', 'CNN.ipynb', 'HW2_data', 'test_submit.csv', 'train.py', 'train_hw2.py']\n",
      "{'airplane': 0, 'automobile': 1, 'bird': 2, 'cat': 3, 'deer': 4, 'dog': 5, 'frog': 6, 'horse': 7, 'ship': 8, 'truck': 9}\n"
     ]
    },
    {
     "name": "stderr",
     "output_type": "stream",
     "text": [
      "/anaconda/lib/python3.6/site-packages/ipykernel_launcher.py:5: DeprecationWarning: `imread` is deprecated!\n",
      "`imread` is deprecated in SciPy 1.0.0, and will be removed in 1.2.0.\n",
      "Use ``imageio.imread`` instead.\n",
      "  \"\"\"\n"
     ]
    },
    {
     "name": "stdout",
     "output_type": "stream",
     "text": [
      "Loaded 10000/45000\n",
      "Loaded 20000/45000\n",
      "Loaded 30000/45000\n",
      "Loaded 40000/45000\n",
      "Data loading done.\n"
     ]
    }
   ],
   "source": [
    "def get_img_array(path):\n",
    "    \"\"\"\n",
    "    Given path of image, returns it's numpy array\n",
    "    \"\"\"\n",
    "    return scipy.misc.imread(path)\n",
    "\n",
    "def get_files(folder):\n",
    "    \"\"\"\n",
    "    Given path to folder, returns list of files in it\n",
    "    \"\"\"\n",
    "    def getid(s):\n",
    "            return int(''.join(c for c in s[3:] if c.isdigit()))\n",
    "        \n",
    "    filenames = [file for file in glob.glob(folder+'*/*')]\n",
    "    filenames.sort(key=getid)\n",
    "    return filenames\n",
    "\n",
    "def get_label(filepath, label2id):\n",
    "    \"\"\"\n",
    "    Files are assumed to be labeled as: /path/to/file/999_frog.png\n",
    "    Returns label for a filepath\n",
    "    \"\"\"\n",
    "    tokens = filepath.split('/')\n",
    "    label = tokens[-1].split('_')[1][:-4]\n",
    "    if label in label2id:\n",
    "        return label2id[label]\n",
    "    else:\n",
    "        sys.exit(\"Invalid label: \" + label)\n",
    "        \n",
    "\n",
    "def get_labels(folder, label2id):\n",
    "    \"\"\"\n",
    "    Returns vector of labels extracted from filenames of all files in folder\n",
    "    :param folder: path to data folder\n",
    "    :param label2id: mapping of text labels to numeric ids. (Eg: automobile -> 0)\n",
    "    \"\"\"\n",
    "    files = get_files(folder)\n",
    "    y = []\n",
    "    for f in files:\n",
    "        y.append(get_label(f,label2id))\n",
    "    return np.array(y)\n",
    "\n",
    "def one_hot(y, num_classes=10):\n",
    "    \"\"\"\n",
    "    Converts each label index in y to vector with one_hot encoding\n",
    "    One-hot encoding converts categorical labels to binary values\n",
    "    \"\"\"\n",
    "    y_one_hot = np.zeros((num_classes, y.shape[0]))\n",
    "    y_one_hot[y, range(y.shape[0])] = 1\n",
    "    return y_one_hot\n",
    "\n",
    "def get_label_mapping(label_file):\n",
    "    \"\"\"\n",
    "    Returns mappings of label to index and index to label\n",
    "    The input file has list of labels, each on a separate line.\n",
    "    \"\"\"\n",
    "    print(os.listdir())\n",
    "    with open(label_file, 'r') as f:\n",
    "        id2label = f.readlines()\n",
    "        id2label = [l.strip() for l in id2label]\n",
    "    label2id = {}\n",
    "    count = 0\n",
    "    for label in id2label:\n",
    "        label2id[label] = count\n",
    "        count += 1\n",
    "    return id2label, label2id\n",
    "\n",
    "def get_images(folder):\n",
    "    \"\"\"\n",
    "    returns numpy array of all samples in folder\n",
    "    each column is a sample resized to 30x30 and flattened\n",
    "    \"\"\"\n",
    "    files = get_files(folder)\n",
    "    images = []\n",
    "    count = 0\n",
    "    \n",
    "    for f in files:\n",
    "        count += 1 \n",
    "        if count % 10000 == 0:\n",
    "            print(\"Loaded {}/{}\".format(count,len(files)))\n",
    "        img_arr = get_img_array(f)\n",
    "        img_arr = img_arr.flatten() / 255.0\n",
    "        images.append(img_arr)\n",
    "    X = np.column_stack(images)\n",
    "\n",
    "    return X\n",
    "\n",
    "def get_train_data(data_root_path):\n",
    "    \"\"\"\n",
    "    Return X and y\n",
    "    \"\"\"\n",
    "    train_data_path = data_root_path + 'train'\n",
    "    id2label, label2id = get_label_mapping(data_root_path+'labels.txt')\n",
    "    print(label2id)\n",
    "    X = get_images(train_data_path)\n",
    "    y = get_labels(train_data_path, label2id)\n",
    "    return X, y\n",
    "\n",
    "def save_predictions(filename, y):\n",
    "    \"\"\"\n",
    "    Dumps y into .npy file\n",
    "    \"\"\"\n",
    "    np.save(filename, y)\n",
    "    \n",
    "def get_batch(X, y, batch_size):\n",
    "    \"\"\"\n",
    "    Return minibatch of samples and labels\n",
    "  \n",
    "    :param X, y: samples and corresponding labels\n",
    "    :parma batch_size: minibatch size\n",
    "    :returns: (tuple) X_batch, y_batch\n",
    "    \"\"\"\n",
    "    # Random indices for the samples\n",
    "\n",
    "    indices = np.random.randint(y.shape[0]-1, size= batch_size)\n",
    "\n",
    "    X_batch = X[indices, :]\n",
    "    y_batch = y[indices, :]\n",
    "  \n",
    "    return X_batch, y_batch\n",
    "\n",
    "# Load the data\n",
    "data_root_path = 'HW2_data/'\n",
    "X_train, y_train = get_train_data(data_root_path) # this may take a few minutes\n",
    "y_train = one_hot(y_train).T\n",
    "X_train = X_train.T\n",
    "X_train = (X_train - np.mean(X_train,axis=0)) / np.std(X_train,axis=0) # Normalize data \n",
    "\n",
    "\n",
    "# Loading test data \n",
    "X_test = get_images(data_root_path + 'test').T\n",
    "\n",
    "print(\"Data loading done.\")"
   ]
  },
  {
   "cell_type": "code",
   "execution_count": 3,
   "metadata": {},
   "outputs": [],
   "source": [
    "X_train = X_train.reshape(45000,32,32,3)"
   ]
  },
  {
   "cell_type": "code",
   "execution_count": 4,
   "metadata": {},
   "outputs": [
    {
     "data": {
      "text/plain": [
       "(45000, 32, 32, 3)"
      ]
     },
     "execution_count": 4,
     "metadata": {},
     "output_type": "execute_result"
    }
   ],
   "source": [
    "X_train.shape"
   ]
  },
  {
   "cell_type": "code",
   "execution_count": 5,
   "metadata": {},
   "outputs": [
    {
     "data": {
      "text/plain": [
       "(45000, 10)"
      ]
     },
     "execution_count": 5,
     "metadata": {},
     "output_type": "execute_result"
    }
   ],
   "source": [
    "y_train.shape"
   ]
  },
  {
   "cell_type": "code",
   "execution_count": 6,
   "metadata": {},
   "outputs": [],
   "source": [
    "batch_size = 64\n",
    "num_classes = 10\n",
    "img_size = 32\n",
    "num_channels = 3"
   ]
  },
  {
   "cell_type": "code",
   "execution_count": 7,
   "metadata": {},
   "outputs": [],
   "source": [
    "tf.reset_default_graph()\n",
    "session = tf.Session()\n",
    "x = tf.placeholder(tf.float32, shape=[None, img_size,img_size,num_channels], name='x')\n",
    "## labels\n",
    "y_true = tf.placeholder(tf.float32, shape=[None, num_classes], name='y_true')\n",
    "y_true_cls = tf.argmax(y_true, dimension=1)\n",
    "is_training = tf.placeholder(tf.bool)"
   ]
  },
  {
   "cell_type": "code",
   "execution_count": 8,
   "metadata": {},
   "outputs": [],
   "source": [
    "# Convolutional layers \n",
    "Wconv1 = tf.get_variable(\"Wconv1\", shape=[5, 5, 3, 32])\n",
    "bconv1 = tf.get_variable(\"bconv1\", shape=[32])\n",
    "Wconv2 = tf.get_variable(\"Wconv2\", shape=[5, 5, 32, 64])\n",
    "bconv2 = tf.get_variable(\"bconv2\", shape=[64])\n",
    "\n",
    "# Fully connected layers \n",
    "W1 = tf.get_variable(\"W1\", shape=[3136, 1024])\n",
    "b1 = tf.get_variable(\"b1\", shape=[1024])\n",
    "W2 = tf.get_variable(\"W2\", shape=[1024, 10])\n",
    "b2 = tf.get_variable(\"b2\", shape=[10]) \n",
    "\n",
    "\n",
    "# Forward propagation\n",
    "conv1 = tf.nn.conv2d(x, Wconv1, strides=[1, 1, 1, 1], padding='SAME') + bconv1\n",
    "relu1 = tf.nn.relu(conv1)\n",
    "conv2 = tf.nn.conv2d(relu1, Wconv2, strides=[1, 2, 2, 1], padding='VALID') + bconv2\n",
    "relu2 = tf.nn.relu(conv2)\n",
    "maxpool = tf.layers.max_pooling2d(relu2, pool_size=(2,2), strides=2)\n",
    "maxpool_flat = tf.reshape(maxpool,[-1,3136])\n",
    "# Spatial Batch Normalization Layer (trainable parameters, with scale and centering)\n",
    "bn1 = tf.layers.batch_normalization(inputs=maxpool_flat, center=True, scale=True, training=is_training)\n",
    "affine1 = tf.matmul(bn1, W1) + b1\n",
    "affine1_flat = tf.reshape(affine1,[-1,1024])\n",
    "bn2 = tf.layers.batch_normalization(inputs=affine1, center=True, scale=True, training=is_training)\n",
    "relu2 = tf.nn.relu(bn2)\n",
    "drop1 = tf.layers.dropout(inputs=relu2, training=is_training)\n",
    "affine2 = tf.matmul(drop1, W2) + b2\n",
    "affine2_flat = tf.reshape(affine2,[-1,3136])\n",
    "\n",
    "predict = tf.layers.batch_normalization(inputs=affine2, center=True, scale=True, training=is_training)\n",
    "\n",
    "y_pred = tf.nn.softmax(predict)"
   ]
  },
  {
   "cell_type": "code",
   "execution_count": 10,
   "metadata": {},
   "outputs": [],
   "source": [
    "y_pred_cls = tf.argmax(y_pred, dimension=1)\n",
    "cross_entropy = tf.nn.softmax_cross_entropy_with_logits(logits=predict,labels=y_true)\n",
    "cost = tf.reduce_mean(cross_entropy)\n",
    "correct_prediction = tf.equal(y_pred_cls, y_true_cls)\n",
    "accuracy = tf.reduce_mean(tf.cast(correct_prediction, tf.float32))\n",
    "\n",
    "\n",
    "global_step = tf.Variable(0, trainable=False)\n",
    "starter_learning_rate = 1e-3\n",
    "end_learning_rate = 5e-3\n",
    "decay_steps = 10000\n",
    "\n",
    "learning_rate = tf.train.polynomial_decay(starter_learning_rate, global_step,\n",
    "                                          decay_steps, end_learning_rate,\n",
    "                                          power=0.5)\n",
    "\n",
    "exp_learning_rate = tf.train.exponential_decay(starter_learning_rate, global_step,\n",
    "                                               100000, 0.96, staircase=True)                 \n",
    "\n",
    "extra_update_ops = tf.get_collection(tf.GraphKeys.UPDATE_OPS)\n",
    "with tf.control_dependencies(extra_update_ops):\n",
    "    optimizer = tf.train.AdamOptimizer(learning_rate=1e-3).minimize(cost, global_step=global_step)\n",
    "                      "
   ]
  },
  {
   "cell_type": "code",
   "execution_count": 11,
   "metadata": {},
   "outputs": [],
   "source": [
    "x_valid_batch, y_valid_batch = get_batch(X_train, y_train, batch_size)\n",
    "x_valid_batch = x_valid_batch.reshape((batch_size, 32, 32, 3))"
   ]
  },
  {
   "cell_type": "code",
   "execution_count": 14,
   "metadata": {},
   "outputs": [],
   "source": [
    "def show_progress(epoch, feed_dict_train, feed_dict_validate, val_loss):\n",
    "    acc = session.run(accuracy, feed_dict=feed_dict_train)\n",
    "    val_acc = session.run(accuracy, feed_dict=feed_dict_validate)\n",
    "    msg = \"Training Epoch {0} --- Training Accuracy: {1:>6.1%}, Validation Accuracy: {2:>6.1%},  Validation Loss: {3:.3f}\"\n",
    "    print(msg.format(epoch + 1, acc, val_acc, val_loss))"
   ]
  },
  {
   "cell_type": "code",
   "execution_count": 22,
   "metadata": {},
   "outputs": [],
   "source": [
    "def train(num_epochs = 10):\n",
    "    for epoch in range(num_epochs):\n",
    "        # keep track of losses and accuracy\n",
    "        correct = 0\n",
    "        losses = []\n",
    "        for i in range(int(math.ceil(X_train.shape[0]/batch_size))):\n",
    "            \n",
    "            x_batch, y_true_batch = get_batch(X_train, y_train, batch_size)\n",
    "            # Training batches \n",
    "            feed_dict_tr = {x: x_batch,\n",
    "                           y_true: y_true_batch, is_training: True}\n",
    "            \n",
    "            # Validation batches \n",
    "            feed_dict_val = {x: x_valid_batch,\n",
    "                              y_true: y_valid_batch, is_training: False}\n",
    "            \n",
    "            # Optimizing \n",
    "            session.run(optimizer, feed_dict=feed_dict_tr)\n",
    "            \n",
    "            if (i % 200) == 0:\n",
    "                # Showing progress every 200 iters\n",
    "                val_loss = session.run(cost, feed_dict=feed_dict_tr)\n",
    "                show_progress(epoch, feed_dict_tr, feed_dict_val, val_loss)           "
   ]
  },
  {
   "cell_type": "code",
   "execution_count": 17,
   "metadata": {},
   "outputs": [],
   "source": [
    "session = tf.Session()"
   ]
  },
  {
   "cell_type": "code",
   "execution_count": 18,
   "metadata": {},
   "outputs": [],
   "source": [
    "session.run(tf.global_variables_initializer())"
   ]
  },
  {
   "cell_type": "code",
   "execution_count": 23,
   "metadata": {},
   "outputs": [
    {
     "name": "stdout",
     "output_type": "stream",
     "text": [
      "Training Epoch 1 --- Training Accuracy:  82.8%, Validation Accuracy:   6.2%,  Validation Loss: 1.183\n",
      "Training Epoch 1 --- Training Accuracy:  51.6%, Validation Accuracy:  68.8%,  Validation Loss: 1.389\n",
      "Training Epoch 1 --- Training Accuracy:  73.4%, Validation Accuracy:  60.9%,  Validation Loss: 1.015\n",
      "Training Epoch 1 --- Training Accuracy:  68.8%, Validation Accuracy:  73.4%,  Validation Loss: 0.964\n",
      "Training Epoch 2 --- Training Accuracy:  75.0%, Validation Accuracy:  82.8%,  Validation Loss: 0.953\n",
      "Training Epoch 2 --- Training Accuracy:  70.3%, Validation Accuracy:  78.1%,  Validation Loss: 0.879\n",
      "Training Epoch 2 --- Training Accuracy:  70.3%, Validation Accuracy:  84.4%,  Validation Loss: 0.842\n",
      "Training Epoch 2 --- Training Accuracy:  75.0%, Validation Accuracy:  73.4%,  Validation Loss: 0.704\n",
      "Training Epoch 3 --- Training Accuracy:  64.1%, Validation Accuracy:  79.7%,  Validation Loss: 0.870\n",
      "Training Epoch 3 --- Training Accuracy:  73.4%, Validation Accuracy:  84.4%,  Validation Loss: 0.754\n",
      "Training Epoch 3 --- Training Accuracy:  82.8%, Validation Accuracy:  85.9%,  Validation Loss: 0.602\n",
      "Training Epoch 3 --- Training Accuracy:  82.8%, Validation Accuracy:  89.1%,  Validation Loss: 0.608\n",
      "Training Epoch 4 --- Training Accuracy:  85.9%, Validation Accuracy:  85.9%,  Validation Loss: 0.560\n",
      "Training Epoch 4 --- Training Accuracy:  84.4%, Validation Accuracy:  87.5%,  Validation Loss: 0.476\n",
      "Training Epoch 4 --- Training Accuracy:  84.4%, Validation Accuracy:  90.6%,  Validation Loss: 0.610\n",
      "Training Epoch 4 --- Training Accuracy:  89.1%, Validation Accuracy:  95.3%,  Validation Loss: 0.451\n",
      "Training Epoch 5 --- Training Accuracy:  79.7%, Validation Accuracy:  98.4%,  Validation Loss: 0.556\n",
      "Training Epoch 5 --- Training Accuracy:  90.6%, Validation Accuracy:  92.2%,  Validation Loss: 0.449\n",
      "Training Epoch 5 --- Training Accuracy:  85.9%, Validation Accuracy:  95.3%,  Validation Loss: 0.554\n",
      "Training Epoch 5 --- Training Accuracy:  84.4%, Validation Accuracy:  96.9%,  Validation Loss: 0.522\n",
      "Training Epoch 6 --- Training Accuracy:  85.9%, Validation Accuracy:  95.3%,  Validation Loss: 0.527\n",
      "Training Epoch 6 --- Training Accuracy:  85.9%, Validation Accuracy:  95.3%,  Validation Loss: 0.388\n",
      "Training Epoch 6 --- Training Accuracy:  89.1%, Validation Accuracy:  96.9%,  Validation Loss: 0.514\n",
      "Training Epoch 6 --- Training Accuracy:  84.4%, Validation Accuracy: 100.0%,  Validation Loss: 0.523\n",
      "Training Epoch 7 --- Training Accuracy:  87.5%, Validation Accuracy:  95.3%,  Validation Loss: 0.423\n",
      "Training Epoch 7 --- Training Accuracy:  87.5%, Validation Accuracy: 100.0%,  Validation Loss: 0.435\n",
      "Training Epoch 7 --- Training Accuracy:  89.1%, Validation Accuracy:  98.4%,  Validation Loss: 0.458\n",
      "Training Epoch 7 --- Training Accuracy:  90.6%, Validation Accuracy:  98.4%,  Validation Loss: 0.305\n",
      "Training Epoch 8 --- Training Accuracy:  96.9%, Validation Accuracy: 100.0%,  Validation Loss: 0.227\n",
      "Training Epoch 8 --- Training Accuracy:  92.2%, Validation Accuracy:  96.9%,  Validation Loss: 0.254\n",
      "Training Epoch 8 --- Training Accuracy:  90.6%, Validation Accuracy:  96.9%,  Validation Loss: 0.350\n",
      "Training Epoch 8 --- Training Accuracy:  89.1%, Validation Accuracy:  96.9%,  Validation Loss: 0.314\n",
      "Training Epoch 9 --- Training Accuracy:  95.3%, Validation Accuracy: 100.0%,  Validation Loss: 0.223\n",
      "Training Epoch 9 --- Training Accuracy:  92.2%, Validation Accuracy: 100.0%,  Validation Loss: 0.311\n",
      "Training Epoch 9 --- Training Accuracy:  92.2%, Validation Accuracy:  96.9%,  Validation Loss: 0.405\n",
      "Training Epoch 9 --- Training Accuracy:  89.1%, Validation Accuracy:  98.4%,  Validation Loss: 0.229\n",
      "Training Epoch 10 --- Training Accuracy:  96.9%, Validation Accuracy: 100.0%,  Validation Loss: 0.157\n",
      "Training Epoch 10 --- Training Accuracy:  90.6%, Validation Accuracy:  98.4%,  Validation Loss: 0.272\n",
      "Training Epoch 10 --- Training Accuracy:  92.2%, Validation Accuracy:  98.4%,  Validation Loss: 0.273\n",
      "Training Epoch 10 --- Training Accuracy:  95.3%, Validation Accuracy: 100.0%,  Validation Loss: 0.197\n"
     ]
    }
   ],
   "source": [
    "try:\n",
    "    with tf.device(\"/cpu:0\") as dev:\n",
    "        train(num_epochs=10)\n",
    "except tf.errors.InvalidArgumentError:\n",
    "    print(\"no gpu found, please use Google Cloud if you want GPU acceleration\") "
   ]
  },
  {
   "cell_type": "code",
   "execution_count": 55,
   "metadata": {},
   "outputs": [],
   "source": [
    "X_test = (X_test - np.mean(X_test,axis=0)) / np.std(X_test,axis=0)"
   ]
  },
  {
   "cell_type": "code",
   "execution_count": 56,
   "metadata": {},
   "outputs": [
    {
     "data": {
      "text/plain": [
       "(5000, 3072)"
      ]
     },
     "execution_count": 56,
     "metadata": {},
     "output_type": "execute_result"
    }
   ],
   "source": [
    "X_test.shape"
   ]
  },
  {
   "cell_type": "code",
   "execution_count": 57,
   "metadata": {},
   "outputs": [],
   "source": [
    "pred = session.run(y_pred_cls, feed_dict = {x: X_test.reshape((5000,32,32,3)), is_training: True})"
   ]
  },
  {
   "cell_type": "code",
   "execution_count": 58,
   "metadata": {},
   "outputs": [
    {
     "data": {
      "text/plain": [
       "array([7, 1, 4, ..., 9, 1, 1])"
      ]
     },
     "execution_count": 58,
     "metadata": {},
     "output_type": "execute_result"
    }
   ],
   "source": [
    "pred"
   ]
  },
  {
   "cell_type": "code",
   "execution_count": 59,
   "metadata": {},
   "outputs": [],
   "source": [
    "classes = ('airplane','automobile', 'bird', 'cat', 'deer', 'dog', 'frog', 'horse', 'ship', 'truck')"
   ]
  },
  {
   "cell_type": "code",
   "execution_count": 62,
   "metadata": {
    "scrolled": false
   },
   "outputs": [],
   "source": [
    "file= open(\"test_submit.csv\", \"w\")\n",
    "file.write(\"id,label\\n\")\n",
    "\n",
    "\n",
    "for i in range(len(pred)):\n",
    "    row = str(i+1) + \",\"+ classes[pred[i]] + '\\n'\n",
    "    file.write(row)\n",
    "file.close()"
   ]
  },
  {
   "cell_type": "code",
   "execution_count": null,
   "metadata": {},
   "outputs": [],
   "source": []
  }
 ],
 "metadata": {
  "kernelspec": {
   "display_name": "Python 3",
   "language": "python",
   "name": "python3"
  },
  "language_info": {
   "codemirror_mode": {
    "name": "ipython",
    "version": 3
   },
   "file_extension": ".py",
   "mimetype": "text/x-python",
   "name": "python",
   "nbconvert_exporter": "python",
   "pygments_lexer": "ipython3",
   "version": "3.6.4"
  }
 },
 "nbformat": 4,
 "nbformat_minor": 2
}
